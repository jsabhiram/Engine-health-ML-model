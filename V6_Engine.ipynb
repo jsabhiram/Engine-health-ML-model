{
  "cells": [
    {
      "cell_type": "code",
      "execution_count": null,
      "metadata": {
        "colab": {
          "base_uri": "https://localhost:8080/"
        },
        "id": "J7q1ZcK6vKOi",
        "outputId": "7add51c1-c555-46fb-da2d-e7fb9090f6b6"
      },
      "outputs": [],
      "source": [
        "import pandas as pd\n",
        "import numpy as np\n",
        "import pickle\n",
        "from sklearn.model_selection import train_test_split\n",
        "from sklearn.preprocessing import LabelEncoder\n",
        "from sklearn.ensemble import RandomForestClassifier\n",
        "import joblib\n",
        "\n",
        "\n",
        "csv_path = \"engine_data.csv\"\n",
        "\n",
        "# Load dataset from CSV\n",
        "dn = pd.read_csv(csv_path)\n",
        "# Encode categorical labels\n",
        "label_encoder = LabelEncoder()\n",
        "dn[\"Encoded_Status\"] = label_encoder.fit_transform(\n",
        "    dn[[\"Possible_Causes\", \"Recommended_Actions\", \"Engine_Status\"]].apply(lambda x: \" | \".join(x.astype(str)), axis=1)\n",
        ")\n",
        "\n",
        "# Splitting dataset\n",
        "X = dn.drop(columns=[\"Possible_Causes\", \"Recommended_Actions\", \"Engine_Status\", \"Encoded_Status\"])\n",
        "y = dn[\"Encoded_Status\"]\n",
        "X_train, X_test, y_train, y_test = train_test_split(X, y, test_size=0.2, random_state=42, stratify=y)\n",
        "\n",
        "# Train the model\n",
        "model = RandomForestClassifier(n_estimators=100, random_state=42)\n",
        "model.fit(X_train, y_train)\n",
        "\n",
        "\n",
        "\n",
        "\n",
        "\n",
        "# Save the model\n",
        "model_path = \"engine_model_new.pkl\"\n",
        "joblib.dump(model, model_path)\n",
        "\n",
        "# Load the model\n",
        "loaded_model = joblib.load(model_path)\n",
        "\n",
        "print(f\"Model saved as {model_path}\")\n",
        "\n",
        "# Function to predict cause based on parameters\n",
        "def predict_engine_issue(model, input_data):\n",
        "    input_df = pd.DataFrame([input_data])\n",
        "    prediction = model.predict(input_df)[0]\n",
        "    decoded_label = label_encoder.inverse_transform([prediction])[0]\n",
        "    return decoded_label\n"
      ]
    },
    {
      "cell_type": "code",
      "execution_count": null,
      "metadata": {},
      "outputs": [],
      "source": []
    },
    {
      "cell_type": "code",
      "execution_count": null,
      "metadata": {
        "colab": {
          "base_uri": "https://localhost:8080/"
        },
        "id": "H-oKOPUrxPNy",
        "outputId": "2fba22aa-3a8c-4596-e640-0a2a71be1640"
      },
      "outputs": [],
      "source": [
        " #Function to predict cause based on parameters\n",
        "\n",
        "model_path = \"engine_model_new.pkl\"\n",
        "def predict_engine_issue(model, input_data):\n",
        "    input_df = pd.DataFrame([input_data])\n",
        "    prediction = model.predict(input_df)[0]\n",
        "    decoded_label = label_encoder.inverse_transform([prediction])[0]\n",
        "    possible_cause, recommended_action, status = decoded_label.split(\" | \")\n",
        "    return {\n",
        "        \"Possible Cause\": possible_cause,\n",
        "        \"Recommended Action\": recommended_action,\n",
        "        \"Engine Status\": status\n",
        "    }\n",
        "\n",
        "# Load the model\n",
        "loaded_model = joblib.load(model_path)\n",
        "# Load the model\n",
        "\n",
        "def simulate():\n",
        "    test_input = {\n",
        "        \"RPM\": 1000,\n",
        "        \"Coolant_Temperature\": 1110,\n",
        "        \"Oil_Pressure\": 20,\n",
        "        \"Throttle_Position\": 70,\n",
        "        \"Fuel_MPG\": 5,\n",
        "        \"Compression_Ratio\": 9,\n",
        "        \"Boost_Pressure\": 10\n",
        "    }\n",
        "\n",
        "    result = predict_engine_issue(loaded_model, test_input)\n",
        "    print(\"Simulation Result:\", result)\n",
        "\n",
        "simulate()\n"
      ]
    },
    {
      "cell_type": "code",
      "execution_count": null,
      "metadata": {
        "colab": {
          "base_uri": "https://localhost:8080/"
        },
        "id": "LNcx373A8S2j",
        "outputId": "8a1789d6-24b5-4718-bf00-a9ea73975b88"
      },
      "outputs": [],
      "source": [
        "from sklearn.metrics import accuracy_score\n",
        "\n",
        "# Predict on the test set\n",
        "y_pred = model.predict(X_test)\n",
        "\n",
        "# Calculate accuracy\n",
        "accuracy = accuracy_score(y_test, y_pred)\n",
        "print(f\"Model Accuracy: {accuracy:.2%}\")\n"
      ]
    }
  ],
  "metadata": {
    "accelerator": "GPU",
    "colab": {
      "gpuType": "T4",
      "provenance": []
    },
    "kernelspec": {
      "display_name": "base",
      "language": "python",
      "name": "python3"
    },
    "language_info": {
      "codemirror_mode": {
        "name": "ipython",
        "version": 3
      },
      "file_extension": ".py",
      "mimetype": "text/x-python",
      "name": "python",
      "nbconvert_exporter": "python",
      "pygments_lexer": "ipython3",
      "version": "3.12.7"
    }
  },
  "nbformat": 4,
  "nbformat_minor": 0
}
